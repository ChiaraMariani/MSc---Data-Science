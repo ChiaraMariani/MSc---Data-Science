{
 "cells": [
  {
   "cell_type": "markdown",
   "id": "e863d93e",
   "metadata": {},
   "source": [
    "# Data Cleaning and Preparation"
   ]
  },
  {
   "cell_type": "markdown",
   "id": "50a62263",
   "metadata": {},
   "source": [
    "We first start by importing useful libraries:"
   ]
  },
  {
   "cell_type": "code",
   "execution_count": 5,
   "id": "b85b9743",
   "metadata": {},
   "outputs": [],
   "source": [
    "import pandas as pd\n",
    "import warnings\n",
    "import numpy as np\n",
    "import math"
   ]
  },
  {
   "cell_type": "markdown",
   "id": "ddfbe411",
   "metadata": {},
   "source": [
    "Then we can read our csv dataset:"
   ]
  },
  {
   "cell_type": "code",
   "execution_count": 6,
   "id": "a6d7d11c",
   "metadata": {},
   "outputs": [],
   "source": [
    "data=pd.read_csv(\"Financial_literacy.csv\")"
   ]
  },
  {
   "cell_type": "markdown",
   "id": "c4806b65",
   "metadata": {},
   "source": [
    "Let's start checking what we are dealing with:"
   ]
  },
  {
   "cell_type": "code",
   "execution_count": 7,
   "id": "0b860741",
   "metadata": {
    "scrolled": true
   },
   "outputs": [
    {
     "name": "stdout",
     "output_type": "stream",
     "text": [
      "106\n"
     ]
    }
   ],
   "source": [
    "columnlist=data.columns\n",
    "print(len(columnlist))"
   ]
  },
  {
   "cell_type": "code",
   "execution_count": 8,
   "id": "b65924ee",
   "metadata": {},
   "outputs": [
    {
     "data": {
      "text/html": [
       "<div>\n",
       "<style scoped>\n",
       "    .dataframe tbody tr th:only-of-type {\n",
       "        vertical-align: middle;\n",
       "    }\n",
       "\n",
       "    .dataframe tbody tr th {\n",
       "        vertical-align: top;\n",
       "    }\n",
       "\n",
       "    .dataframe thead th {\n",
       "        text-align: right;\n",
       "    }\n",
       "</style>\n",
       "<table border=\"1\" class=\"dataframe\">\n",
       "  <thead>\n",
       "    <tr style=\"text-align: right;\">\n",
       "      <th></th>\n",
       "      <th>id</th>\n",
       "      <th>pesofitc</th>\n",
       "      <th>qf1</th>\n",
       "      <th>qf2</th>\n",
       "      <th>qf3_1</th>\n",
       "      <th>qf3_3</th>\n",
       "      <th>qf3_4</th>\n",
       "      <th>qf3_6</th>\n",
       "      <th>qf3_7</th>\n",
       "      <th>qf3_8</th>\n",
       "      <th>...</th>\n",
       "      <th>qk7_2</th>\n",
       "      <th>qk7_3</th>\n",
       "      <th>qd1</th>\n",
       "      <th>qd5b</th>\n",
       "      <th>qd7</th>\n",
       "      <th>qd9</th>\n",
       "      <th>qd10</th>\n",
       "      <th>qd12</th>\n",
       "      <th>SM</th>\n",
       "      <th>AREA5</th>\n",
       "    </tr>\n",
       "  </thead>\n",
       "  <tbody>\n",
       "    <tr>\n",
       "      <th>0</th>\n",
       "      <td>1</td>\n",
       "      <td>0.706596</td>\n",
       "      <td>2</td>\n",
       "      <td>0</td>\n",
       "      <td>0</td>\n",
       "      <td>0</td>\n",
       "      <td>0</td>\n",
       "      <td>0</td>\n",
       "      <td>0</td>\n",
       "      <td>1</td>\n",
       "      <td>...</td>\n",
       "      <td>1</td>\n",
       "      <td>0</td>\n",
       "      <td>0</td>\n",
       "      <td>3</td>\n",
       "      <td>31</td>\n",
       "      <td>3</td>\n",
       "      <td>5</td>\n",
       "      <td>1</td>\n",
       "      <td>0</td>\n",
       "      <td>1</td>\n",
       "    </tr>\n",
       "    <tr>\n",
       "      <th>1</th>\n",
       "      <td>2</td>\n",
       "      <td>1.220904</td>\n",
       "      <td>2</td>\n",
       "      <td>1</td>\n",
       "      <td>0</td>\n",
       "      <td>0</td>\n",
       "      <td>0</td>\n",
       "      <td>1</td>\n",
       "      <td>0</td>\n",
       "      <td>0</td>\n",
       "      <td>...</td>\n",
       "      <td>1</td>\n",
       "      <td>1</td>\n",
       "      <td>0</td>\n",
       "      <td>3</td>\n",
       "      <td>53</td>\n",
       "      <td>4</td>\n",
       "      <td>1</td>\n",
       "      <td>1</td>\n",
       "      <td>0</td>\n",
       "      <td>1</td>\n",
       "    </tr>\n",
       "    <tr>\n",
       "      <th>2</th>\n",
       "      <td>3</td>\n",
       "      <td>1.797774</td>\n",
       "      <td>1</td>\n",
       "      <td>0</td>\n",
       "      <td>0</td>\n",
       "      <td>0</td>\n",
       "      <td>0</td>\n",
       "      <td>0</td>\n",
       "      <td>0</td>\n",
       "      <td>1</td>\n",
       "      <td>...</td>\n",
       "      <td>1</td>\n",
       "      <td>1</td>\n",
       "      <td>0</td>\n",
       "      <td>1</td>\n",
       "      <td>70</td>\n",
       "      <td>4</td>\n",
       "      <td>6</td>\n",
       "      <td>1</td>\n",
       "      <td>0</td>\n",
       "      <td>4</td>\n",
       "    </tr>\n",
       "    <tr>\n",
       "      <th>3</th>\n",
       "      <td>4</td>\n",
       "      <td>1.515358</td>\n",
       "      <td>2</td>\n",
       "      <td>0</td>\n",
       "      <td>0</td>\n",
       "      <td>0</td>\n",
       "      <td>0</td>\n",
       "      <td>0</td>\n",
       "      <td>0</td>\n",
       "      <td>1</td>\n",
       "      <td>...</td>\n",
       "      <td>1</td>\n",
       "      <td>-97</td>\n",
       "      <td>0</td>\n",
       "      <td>2</td>\n",
       "      <td>64</td>\n",
       "      <td>4</td>\n",
       "      <td>4</td>\n",
       "      <td>1</td>\n",
       "      <td>0</td>\n",
       "      <td>4</td>\n",
       "    </tr>\n",
       "    <tr>\n",
       "      <th>4</th>\n",
       "      <td>5</td>\n",
       "      <td>0.244932</td>\n",
       "      <td>2</td>\n",
       "      <td>0</td>\n",
       "      <td>0</td>\n",
       "      <td>0</td>\n",
       "      <td>0</td>\n",
       "      <td>0</td>\n",
       "      <td>0</td>\n",
       "      <td>1</td>\n",
       "      <td>...</td>\n",
       "      <td>0</td>\n",
       "      <td>0</td>\n",
       "      <td>1</td>\n",
       "      <td>2</td>\n",
       "      <td>50</td>\n",
       "      <td>3</td>\n",
       "      <td>1</td>\n",
       "      <td>0</td>\n",
       "      <td>0</td>\n",
       "      <td>4</td>\n",
       "    </tr>\n",
       "    <tr>\n",
       "      <th>...</th>\n",
       "      <td>...</td>\n",
       "      <td>...</td>\n",
       "      <td>...</td>\n",
       "      <td>...</td>\n",
       "      <td>...</td>\n",
       "      <td>...</td>\n",
       "      <td>...</td>\n",
       "      <td>...</td>\n",
       "      <td>...</td>\n",
       "      <td>...</td>\n",
       "      <td>...</td>\n",
       "      <td>...</td>\n",
       "      <td>...</td>\n",
       "      <td>...</td>\n",
       "      <td>...</td>\n",
       "      <td>...</td>\n",
       "      <td>...</td>\n",
       "      <td>...</td>\n",
       "      <td>...</td>\n",
       "      <td>...</td>\n",
       "      <td>...</td>\n",
       "    </tr>\n",
       "    <tr>\n",
       "      <th>2371</th>\n",
       "      <td>692344</td>\n",
       "      <td>3.113144</td>\n",
       "      <td>3</td>\n",
       "      <td>1</td>\n",
       "      <td>1</td>\n",
       "      <td>0</td>\n",
       "      <td>0</td>\n",
       "      <td>0</td>\n",
       "      <td>0</td>\n",
       "      <td>0</td>\n",
       "      <td>...</td>\n",
       "      <td>-97</td>\n",
       "      <td>-97</td>\n",
       "      <td>1</td>\n",
       "      <td>4</td>\n",
       "      <td>18</td>\n",
       "      <td>4</td>\n",
       "      <td>9</td>\n",
       "      <td>1</td>\n",
       "      <td>1</td>\n",
       "      <td>3</td>\n",
       "    </tr>\n",
       "    <tr>\n",
       "      <th>2372</th>\n",
       "      <td>692345</td>\n",
       "      <td>2.112678</td>\n",
       "      <td>1</td>\n",
       "      <td>0</td>\n",
       "      <td>1</td>\n",
       "      <td>0</td>\n",
       "      <td>0</td>\n",
       "      <td>0</td>\n",
       "      <td>0</td>\n",
       "      <td>0</td>\n",
       "      <td>...</td>\n",
       "      <td>1</td>\n",
       "      <td>-97</td>\n",
       "      <td>0</td>\n",
       "      <td>1</td>\n",
       "      <td>68</td>\n",
       "      <td>4</td>\n",
       "      <td>6</td>\n",
       "      <td>1</td>\n",
       "      <td>1</td>\n",
       "      <td>3</td>\n",
       "    </tr>\n",
       "    <tr>\n",
       "      <th>2373</th>\n",
       "      <td>692346</td>\n",
       "      <td>2.090212</td>\n",
       "      <td>3</td>\n",
       "      <td>1</td>\n",
       "      <td>1</td>\n",
       "      <td>0</td>\n",
       "      <td>0</td>\n",
       "      <td>0</td>\n",
       "      <td>0</td>\n",
       "      <td>0</td>\n",
       "      <td>...</td>\n",
       "      <td>-97</td>\n",
       "      <td>0</td>\n",
       "      <td>0</td>\n",
       "      <td>2</td>\n",
       "      <td>31</td>\n",
       "      <td>1</td>\n",
       "      <td>2</td>\n",
       "      <td>1</td>\n",
       "      <td>1</td>\n",
       "      <td>3</td>\n",
       "    </tr>\n",
       "    <tr>\n",
       "      <th>2374</th>\n",
       "      <td>692347</td>\n",
       "      <td>2.040491</td>\n",
       "      <td>3</td>\n",
       "      <td>0</td>\n",
       "      <td>0</td>\n",
       "      <td>0</td>\n",
       "      <td>0</td>\n",
       "      <td>0</td>\n",
       "      <td>0</td>\n",
       "      <td>1</td>\n",
       "      <td>...</td>\n",
       "      <td>-97</td>\n",
       "      <td>-97</td>\n",
       "      <td>1</td>\n",
       "      <td>4</td>\n",
       "      <td>18</td>\n",
       "      <td>3</td>\n",
       "      <td>9</td>\n",
       "      <td>1</td>\n",
       "      <td>1</td>\n",
       "      <td>3</td>\n",
       "    </tr>\n",
       "    <tr>\n",
       "      <th>2375</th>\n",
       "      <td>692348</td>\n",
       "      <td>1.506404</td>\n",
       "      <td>2</td>\n",
       "      <td>1</td>\n",
       "      <td>1</td>\n",
       "      <td>0</td>\n",
       "      <td>0</td>\n",
       "      <td>0</td>\n",
       "      <td>0</td>\n",
       "      <td>0</td>\n",
       "      <td>...</td>\n",
       "      <td>1</td>\n",
       "      <td>0</td>\n",
       "      <td>0</td>\n",
       "      <td>4</td>\n",
       "      <td>50</td>\n",
       "      <td>1</td>\n",
       "      <td>2</td>\n",
       "      <td>1</td>\n",
       "      <td>1</td>\n",
       "      <td>3</td>\n",
       "    </tr>\n",
       "  </tbody>\n",
       "</table>\n",
       "<p>2376 rows × 106 columns</p>\n",
       "</div>"
      ],
      "text/plain": [
       "          id  pesofitc  qf1  qf2  qf3_1  qf3_3  qf3_4  qf3_6  qf3_7  qf3_8  \\\n",
       "0          1  0.706596    2    0      0      0      0      0      0      1   \n",
       "1          2  1.220904    2    1      0      0      0      1      0      0   \n",
       "2          3  1.797774    1    0      0      0      0      0      0      1   \n",
       "3          4  1.515358    2    0      0      0      0      0      0      1   \n",
       "4          5  0.244932    2    0      0      0      0      0      0      1   \n",
       "...      ...       ...  ...  ...    ...    ...    ...    ...    ...    ...   \n",
       "2371  692344  3.113144    3    1      1      0      0      0      0      0   \n",
       "2372  692345  2.112678    1    0      1      0      0      0      0      0   \n",
       "2373  692346  2.090212    3    1      1      0      0      0      0      0   \n",
       "2374  692347  2.040491    3    0      0      0      0      0      0      1   \n",
       "2375  692348  1.506404    2    1      1      0      0      0      0      0   \n",
       "\n",
       "      ...  qk7_2  qk7_3  qd1  qd5b  qd7  qd9  qd10  qd12  SM  AREA5  \n",
       "0     ...      1      0    0     3   31    3     5     1   0      1  \n",
       "1     ...      1      1    0     3   53    4     1     1   0      1  \n",
       "2     ...      1      1    0     1   70    4     6     1   0      4  \n",
       "3     ...      1    -97    0     2   64    4     4     1   0      4  \n",
       "4     ...      0      0    1     2   50    3     1     0   0      4  \n",
       "...   ...    ...    ...  ...   ...  ...  ...   ...   ...  ..    ...  \n",
       "2371  ...    -97    -97    1     4   18    4     9     1   1      3  \n",
       "2372  ...      1    -97    0     1   68    4     6     1   1      3  \n",
       "2373  ...    -97      0    0     2   31    1     2     1   1      3  \n",
       "2374  ...    -97    -97    1     4   18    3     9     1   1      3  \n",
       "2375  ...      1      0    0     4   50    1     2     1   1      3  \n",
       "\n",
       "[2376 rows x 106 columns]"
      ]
     },
     "execution_count": 8,
     "metadata": {},
     "output_type": "execute_result"
    }
   ],
   "source": [
    "data"
   ]
  },
  {
   "cell_type": "markdown",
   "id": "455fde26",
   "metadata": {},
   "source": [
    "We see we have many columns mainly because for multiple choice questions replies are subdivided in 0 or 1s, meaning each multiple choice question is usually binarized. \n",
    "\n",
    "We also have columns that are not useful to us, so we can start by deleting those and then doing some light data aggregation on the others, in a way that preserves all information in the dataset."
   ]
  },
  {
   "cell_type": "code",
   "execution_count": 9,
   "id": "b1d4d64d",
   "metadata": {},
   "outputs": [],
   "source": [
    "data.drop([\"id\", \"pesofitc\", \"SM\", \"qd5b\", \"qd12\", \n",
    "               \"qf3_99\", \"qf9_99\", \"qprod1c_99\", \"qprod1_d\", \n",
    "               \"qprod3_99\", \"qf12_97\", \"qf12_99\"], axis=1, inplace=True)"
   ]
  },
  {
   "cell_type": "markdown",
   "id": "7878551b",
   "metadata": {},
   "source": [
    "The rationale behind the each column elimination is different from column to column but usually is because either the column is not useful (as in \"id\" column), or it is unclear (as in \"pesofitc\") or we decided that absence of a reply is in itself already a reply (as in \"qprod1c_99\"). For more information about column deletion check the report associated with this project."
   ]
  },
  {
   "cell_type": "markdown",
   "id": "deef9aec",
   "metadata": {},
   "source": [
    "Now we have to aggregate three other features to create the target variable, as described in the report:"
   ]
  },
  {
   "cell_type": "code",
   "execution_count": 10,
   "id": "d6aad4db",
   "metadata": {},
   "outputs": [],
   "source": [
    "data['defrauded']=0 #we first initialize our target variable to zero; we'll keep it binary for simplicity"
   ]
  },
  {
   "cell_type": "markdown",
   "id": "dc3f1975",
   "metadata": {},
   "source": [
    "Our first line of reasoning is that in some cases the reply already tells us the interviewed person was victim of a fraud, and so for those cases we initialise the variable to 1:"
   ]
  },
  {
   "cell_type": "code",
   "execution_count": 11,
   "id": "d7222751",
   "metadata": {},
   "outputs": [],
   "source": [
    "warnings.filterwarnings(\"ignore\")\n",
    "for i in range(len(data)):\n",
    "    if data['qprod4_2'][i]==1 or data['qprod4_3'][i]==1: # either one of the two variables -> defrauded\n",
    "        data['defrauded'][i]=1"
   ]
  },
  {
   "cell_type": "code",
   "execution_count": 12,
   "id": "1d284cc1",
   "metadata": {},
   "outputs": [
    {
     "data": {
      "text/plain": [
       "147"
      ]
     },
     "execution_count": 12,
     "metadata": {},
     "output_type": "execute_result"
    }
   ],
   "source": [
    "len(data[data['defrauded']==1])"
   ]
  },
  {
   "cell_type": "markdown",
   "id": "7945266b",
   "metadata": {},
   "source": [
    "We see we already have 147 data points, but it's good to try and extract as much info from the data itself because that way we reduce imbalances in victims of a fraud or not. To do so, we have to distinguish between those that are with certainty NOT victims of a fraud, those who have been victims of a fraud (already selected before) and of those who is unclear we have to partition once more in those who is unclear but information is still retrievable or not. We can start by highlighting those who, with certainty, are not victims of a fraud, associated with -1: "
   ]
  },
  {
   "cell_type": "code",
   "execution_count": 13,
   "id": "2ea05dc0",
   "metadata": {},
   "outputs": [],
   "source": [
    "warnings.filterwarnings(\"ignore\")\n",
    "for i in range(len(data)):\n",
    "    if data['qprod4_2'][i]==0 and data['qprod4_3'][i]==0 and data['qprod4_1'][i]==0: # all three variables to zero -> no fraud\n",
    "        data['defrauded'][i]=-1"
   ]
  },
  {
   "cell_type": "code",
   "execution_count": 15,
   "id": "00318cbe",
   "metadata": {},
   "outputs": [
    {
     "data": {
      "text/plain": [
       "1919"
      ]
     },
     "execution_count": 15,
     "metadata": {},
     "output_type": "execute_result"
    }
   ],
   "source": [
    "len(data[data['defrauded']==-1])"
   ]
  },
  {
   "cell_type": "markdown",
   "id": "5f67562b",
   "metadata": {},
   "source": [
    "Now we can retrieve some data points utilising information from questions that came before:"
   ]
  },
  {
   "cell_type": "code",
   "execution_count": 16,
   "id": "73e580c8",
   "metadata": {},
   "outputs": [],
   "source": [
    "warnings.filterwarnings(\"ignore\")\n",
    "for i in range(len(data)):\n",
    "    counter=0\n",
    "    if data['qprod4_1'][i]==1 and data['defrauded'][i]==0: # meaning we are considering only those who are unclear\n",
    "        if data['qprod3_8'][i]==1 or data['qprod3_9'][i]==1 or data['qprod3_10'][i]==1: # if the reply of qprod3_1 was conditioned by \n",
    "            # friends or relatives or some financial adviser, we can't consider it fraud since they should have  one's best interest in mind\n",
    "            counter=1\n",
    "        if math.isnan(data['qprod3_8'][i]): # we only enter in qprod3_x questions if the person has indeed bought financial products - hence if we see NaN \n",
    "            # it means there is some inconsistency within the data \n",
    "            counter=1\n",
    "        if counter!=1:\n",
    "            data['defrauded'][i]=1"
   ]
  },
  {
   "cell_type": "code",
   "execution_count": 17,
   "id": "4c1b381e",
   "metadata": {},
   "outputs": [
    {
     "data": {
      "text/plain": [
       "186"
      ]
     },
     "execution_count": 17,
     "metadata": {},
     "output_type": "execute_result"
    }
   ],
   "source": [
    "len(data[data['defrauded']==1])"
   ]
  },
  {
   "cell_type": "markdown",
   "id": "65cacd9b",
   "metadata": {},
   "source": [
    "For all those data points where still it is unclear if the respondent was victim of a fraud, we can consider that with good probability when the replies are mostly negative (for two thirds negative and for the remaining non positive) the person was indeed not victim of a fraud:"
   ]
  },
  {
   "cell_type": "code",
   "execution_count": 10,
   "id": "b4ccd562",
   "metadata": {},
   "outputs": [],
   "source": [
    "warnings.filterwarnings(\"ignore\")\n",
    "for i in range(len(data)):\n",
    "    counter=0\n",
    "    if data['qprod4_3'][i]==0 and data['qprod4_1'][i]==0 and data['defrauded'][i]==0:\n",
    "        counter+=1\n",
    "    if data['qprod4_2'][i]==0 and data['qprod4_1'][i]==0 and data['defrauded'][i]==0:\n",
    "        counter+=1\n",
    "    if data['qprod4_3'][i]==0 and data['qprod4_2'][i]==0 and data['defrauded'][i]==0:\n",
    "        counter+=1\n",
    "    if counter!=0:\n",
    "        data['defrauded'][i]=-2 "
   ]
  },
  {
   "cell_type": "code",
   "execution_count": 11,
   "id": "6f3e0445",
   "metadata": {},
   "outputs": [
    {
     "name": "stdout",
     "output_type": "stream",
     "text": [
      "110\n"
     ]
    }
   ],
   "source": [
    "print(len(data[data['defrauded']==0]))"
   ]
  },
  {
   "cell_type": "markdown",
   "id": "32a39406",
   "metadata": {},
   "source": [
    "These 110 replies are either inconsistent or no data can be retrieved about them and as such we'll have to delete them:"
   ]
  },
  {
   "cell_type": "code",
   "execution_count": 12,
   "id": "c213393a",
   "metadata": {},
   "outputs": [],
   "source": [
    "data.drop(data[data['defrauded']==0].index, inplace=True)\n",
    "data.reset_index(inplace=True)"
   ]
  },
  {
   "cell_type": "code",
   "execution_count": 13,
   "id": "a6d5c809",
   "metadata": {},
   "outputs": [],
   "source": [
    "data.drop('index', axis=1, inplace=True)"
   ]
  },
  {
   "cell_type": "markdown",
   "id": "22b9941a",
   "metadata": {},
   "source": [
    "Now we reduce all our columns to zero when the respondent was not victim of a fraud:"
   ]
  },
  {
   "cell_type": "code",
   "execution_count": 14,
   "id": "2119a5fc",
   "metadata": {},
   "outputs": [],
   "source": [
    "for i in range(len(data)):\n",
    "    if data['defrauded'][i]==-1 or data['defrauded'][i]==-2:\n",
    "        data['defrauded'][i]=0"
   ]
  },
  {
   "cell_type": "markdown",
   "id": "8ae0506d",
   "metadata": {},
   "source": [
    "We can also now remove the columns that we \"aggregated\" in the target variable:"
   ]
  },
  {
   "cell_type": "code",
   "execution_count": 15,
   "id": "6f160099",
   "metadata": {},
   "outputs": [],
   "source": [
    "data.drop(['qprod4_1', 'qprod4_2', 'qprod4_3'], axis=1, inplace=True)"
   ]
  },
  {
   "cell_type": "code",
   "execution_count": 16,
   "id": "979487d5",
   "metadata": {},
   "outputs": [
    {
     "name": "stdout",
     "output_type": "stream",
     "text": [
      "92\n"
     ]
    }
   ],
   "source": [
    "print(len(data.columns))"
   ]
  },
  {
   "cell_type": "markdown",
   "id": "d25e76bd",
   "metadata": {},
   "source": [
    "We see we are left with 92 features. Now we can try and discretise features that can be unified without loss of information or generalisation; we can also discretise a little bit some replies to limit the image space of each explanatory variable."
   ]
  },
  {
   "cell_type": "markdown",
   "id": "bfe627d6",
   "metadata": {},
   "source": [
    "We can start discretising AREA5, referring to where each respondent lives:"
   ]
  },
  {
   "cell_type": "code",
   "execution_count": 17,
   "id": "7147c977",
   "metadata": {},
   "outputs": [],
   "source": [
    "for i in range(len(data)):\n",
    "    if data['AREA5'][i]==2:\n",
    "        data['AREA5'][i]=1 # north\n",
    "    if data['AREA5'][i]==4:\n",
    "        data['AREA5'][i]=5 # south + islands\n",
    "# center is left untouched"
   ]
  },
  {
   "cell_type": "markdown",
   "id": "6b3730c0",
   "metadata": {},
   "source": [
    "Now we also should discretise age ranges:"
   ]
  },
  {
   "cell_type": "code",
   "execution_count": 18,
   "id": "c9caa1e1",
   "metadata": {},
   "outputs": [],
   "source": [
    "for i in range(len(data)):\n",
    "    if math.trunc(data['qd7'][i]/10)==1:  # first age range: 18-24\n",
    "        data['qd7'][i]=1  \n",
    "    if math.trunc(data['qd7'][i]/10)==2:\n",
    "        if data['qd7'][i]%10>4:  # second age range: 25-34\n",
    "            data['qd7'][i]=2\n",
    "        else: \n",
    "            data['qd7'][i]=1\n",
    "    if math.trunc(data['qd7'][i]/10)==3:\n",
    "        if data['qd7'][i]%10>4: # third age range: 35-44\n",
    "            data['qd7'][i]=3\n",
    "        else: \n",
    "            data['qd7'][i]=2\n",
    "    if math.trunc(data['qd7'][i]/10)==4:\n",
    "        if data['qd7'][i]%10>4: # fourth age range: 45-54\n",
    "            data['qd7'][i]=4\n",
    "        else: \n",
    "            data['qd7'][i]=3\n",
    "    if math.trunc(data['qd7'][i]/10)==5:\n",
    "        if data['qd7'][i]%10>4: # fifth age range: 55-64\n",
    "            data['qd7'][i]=5\n",
    "        else: \n",
    "            data['qd7'][i]=4\n",
    "    if math.trunc(data['qd7'][i]/10)==6:\n",
    "        if data['qd7'][i]%10>4: # sixth age range: 65-74\n",
    "            data['qd7'][i]=6\n",
    "        else: \n",
    "            data['qd7'][i]=5\n",
    "    if math.trunc(data['qd7'][i]/10)==7 or math.trunc(data['qd7'][i]/10)==8 or math.trunc(data['qd7'][i]/10)==9: \n",
    "        if data['qd7'][i]%10>4: # last age range: over 75\n",
    "            data['qd7'][i]=7 \n",
    "        else: \n",
    "            data['qd7'][i]=6"
   ]
  },
  {
   "cell_type": "markdown",
   "id": "c299e939",
   "metadata": {},
   "source": [
    "We also discretise education: no education, primary education, secondary education, university education"
   ]
  },
  {
   "cell_type": "code",
   "execution_count": 19,
   "id": "ca181753",
   "metadata": {},
   "outputs": [],
   "source": [
    "for i in range(len(data)):\n",
    "    if data['qd9'][i]==4:\n",
    "        data['qd9'][i]=5\n",
    "    if data['qd9'][i]==6:\n",
    "        data['qd9'][i]=7"
   ]
  },
  {
   "cell_type": "markdown",
   "id": "7b5abfb9",
   "metadata": {},
   "source": [
    "In Qf4 we can discretize some values that symbolise absence of data:"
   ]
  },
  {
   "cell_type": "code",
   "execution_count": 20,
   "id": "a457f65f",
   "metadata": {},
   "outputs": [],
   "source": [
    "for i in range(len(data)):\n",
    "    if data['qf4'][i]==-97:\n",
    "        data['qf4'][i]=-99\n",
    "    if data['qf4'][i]==-98:\n",
    "        data['qf4'][i]=2"
   ]
  },
  {
   "cell_type": "markdown",
   "id": "b604e0f9",
   "metadata": {},
   "source": [
    "Now we can also reduce the scope of values for qf8:"
   ]
  },
  {
   "cell_type": "code",
   "execution_count": 21,
   "id": "55e2e1ea",
   "metadata": {},
   "outputs": [],
   "source": [
    "for i in range(len(data)):\n",
    "    if data['qf8'][i]==-97:\n",
    "        data['qf8'][i]=-99"
   ]
  },
  {
   "cell_type": "markdown",
   "id": "35e44d12",
   "metadata": {},
   "source": [
    "We can also reduce some features through aggregation for example in uniting different multiple choices of Qf9: this can be done by summation along rows and then reduction when the result is zero or positive."
   ]
  },
  {
   "cell_type": "code",
   "execution_count": 22,
   "id": "edff1118",
   "metadata": {},
   "outputs": [],
   "source": [
    "data['qf9_2_3']=data[['qf9_2', 'qf9_3']].sum(axis=1)"
   ]
  },
  {
   "cell_type": "code",
   "execution_count": 23,
   "id": "7be9cd7d",
   "metadata": {},
   "outputs": [],
   "source": [
    "data['qf9_7_8']=data[['qf9_7', 'qf9_8']].sum(axis=1)"
   ]
  },
  {
   "cell_type": "code",
   "execution_count": 24,
   "id": "e228e7ed",
   "metadata": {},
   "outputs": [],
   "source": [
    "data['qf9_1_9']=data[['qf9_1', 'qf9_9']].sum(axis=1)"
   ]
  },
  {
   "cell_type": "code",
   "execution_count": 25,
   "id": "0658f355",
   "metadata": {},
   "outputs": [],
   "source": [
    "data.drop(['qf9_1', 'qf9_2', 'qf9_3', 'qf9_7', 'qf9_8', 'qf9_9'], axis=1, inplace=True)"
   ]
  },
  {
   "cell_type": "code",
   "execution_count": 26,
   "id": "b86c7ca7",
   "metadata": {},
   "outputs": [],
   "source": [
    "for i in range(len(data)):\n",
    "    if data['qf9_2_3'][i]>=1:\n",
    "        data['qf9_2_3'][i]=1\n",
    "    if data['qf9_7_8'][i]>=1:\n",
    "        data['qf9_7_8'][i]=1\n",
    "    if data['qf9_1_9'][i]>=1:\n",
    "        data['qf9_1_9'][i]=1"
   ]
  },
  {
   "cell_type": "markdown",
   "id": "0ae75d2e",
   "metadata": {},
   "source": [
    "Now we take care of some missing data in qprod2 and qprod3_x, where the absence of some data is symbolised already by a specific value. Then we can fill that value when the question was not answered directly. Basically we are substituting a NaN value, present but symbolising absence of information, with a value that already symbolised absence of information."
   ]
  },
  {
   "cell_type": "code",
   "execution_count": 27,
   "id": "88789a13",
   "metadata": {},
   "outputs": [],
   "source": [
    "for i in range(len(data)):\n",
    "    if math.isnan(data['qprod2'][i])==True: # we only need to check this value for NaN because if it is then the whole qprod2 and all qprod3_x features\n",
    "        # will be NaN\n",
    "        data['qprod2'][i]=-99\n",
    "        data['qprod3_1'][i]=-99\n",
    "        data['qprod3_2'][i]=-99\n",
    "        data['qprod3_3'][i]=-99\n",
    "        data['qprod3_4'][i]=-99\n",
    "        data['qprod3_5'][i]=-99\n",
    "        data['qprod3_6'][i]=-99\n",
    "        data['qprod3_7'][i]=-99\n",
    "        data['qprod3_8'][i]=-99\n",
    "        data['qprod3_9'][i]=-99\n",
    "        data['qprod3_10'][i]=-99\n",
    "        data['qprod3_11'][i]=-99\n",
    "        data['qprod3_12'][i]=-99\n",
    "        data['qprod3_13'][i]=-99\n",
    "        data['qprod3_14'][i]=-99\n",
    "        data['qprod3_15'][i]=-99\n",
    "        data['qprod3_16'][i]=-99\n",
    "        data['qprod3_17'][i]=-99\n",
    "        data['qprod3_18'][i]=-99"
   ]
  },
  {
   "cell_type": "markdown",
   "id": "a63d1a47",
   "metadata": {},
   "source": [
    "In a similar fashion to qf9 now we can group some features of the qprod3_x question:"
   ]
  },
  {
   "cell_type": "code",
   "execution_count": 28,
   "id": "cb7f529b",
   "metadata": {},
   "outputs": [],
   "source": [
    "data['qprod3_1_16']=data[['qprod3_1', 'qprod3_16']].sum(axis=1)"
   ]
  },
  {
   "cell_type": "code",
   "execution_count": 29,
   "id": "3124442d",
   "metadata": {},
   "outputs": [],
   "source": [
    "data['qprod3_3_6']=data[['qprod3_3', 'qprod3_6']].sum(axis=1)"
   ]
  },
  {
   "cell_type": "code",
   "execution_count": 30,
   "id": "3ba46fef",
   "metadata": {},
   "outputs": [],
   "source": [
    "data['qprod3_5_7_12_14']=data[['qprod3_5', 'qprod3_7', 'qprod3_12', 'qprod3_14']].sum(axis=1)"
   ]
  },
  {
   "cell_type": "code",
   "execution_count": 31,
   "id": "0ea9df1a",
   "metadata": {},
   "outputs": [],
   "source": [
    "data['qprod3_13_15']=data[['qprod3_13', 'qprod3_15']].sum(axis=1)"
   ]
  },
  {
   "cell_type": "code",
   "execution_count": 32,
   "id": "f1f5e596",
   "metadata": {},
   "outputs": [],
   "source": [
    "for i in range(len(data)):\n",
    "    if data['qprod3_1_16'][i]>0:\n",
    "        data['qprod3_1_16'][i]=1\n",
    "    if data['qprod3_3_6'][i]>0:\n",
    "        data['qprod3_3_6'][i]=1\n",
    "    if data['qprod3_5_7_12_14'][i]>0:\n",
    "        data['qprod3_5_7_12_14'][i]=1\n",
    "    if data['qprod3_13_15'][i]>0:\n",
    "        data['qprod3_13_15'][i]=1\n",
    "    if data['qprod3_1_16'][i]<0:\n",
    "        data['qprod3_1_16'][i]=-99\n",
    "    if data['qprod3_3_6'][i]<0:\n",
    "        data['qprod3_3_6'][i]=-99\n",
    "    if data['qprod3_5_7_12_14'][i]<0:\n",
    "        data['qprod3_5_7_12_14'][i]=-99\n",
    "    if data['qprod3_13_15'][i]<0:\n",
    "        data['qprod3_13_15'][i]=-99"
   ]
  },
  {
   "cell_type": "code",
   "execution_count": 33,
   "id": "d010653c",
   "metadata": {},
   "outputs": [],
   "source": [
    "data.drop(['qprod3_1', 'qprod3_16', 'qprod3_3', 'qprod3_6', 'qprod3_5',\n",
    "              'qprod3_7', 'qprod3_12', 'qprod3_14', 'qprod3_13', 'qprod3_15'], axis=1, inplace=True)"
   ]
  },
  {
   "cell_type": "markdown",
   "id": "faf3086c",
   "metadata": {},
   "source": [
    "Now we reduce the scope of values for qf10:"
   ]
  },
  {
   "cell_type": "code",
   "execution_count": 34,
   "id": "bb53f0f8",
   "metadata": {},
   "outputs": [],
   "source": [
    "for i in range(len(data)):\n",
    "    if data['qf10_1'][i]==-97:\n",
    "        data['qf10_1'][i]=-99\n",
    "    if data['qf10_2'][i]==-97:\n",
    "        data['qf10_2'][i]=-99   \n",
    "    if data['qf10_3'][i]==-97:\n",
    "        data['qf10_3'][i]=-99\n",
    "    if data['qf10_4'][i]==-97:\n",
    "        data['qf10_4'][i]=-99\n",
    "    if data['qf10_5'][i]==-97:\n",
    "        data['qf10_5'][i]=-99\n",
    "    if data['qf10_6'][i]==-97:\n",
    "        data['qf10_6'][i]=-99\n",
    "    if data['qf10_7'][i]==-97:\n",
    "        data['qf10_7'][i]=-99\n",
    "    if data['qf10_8'][i]==-97:\n",
    "        data['qf10_8'][i]=-99\n",
    "    if data['qf10_9'][i]==-97:\n",
    "        data['qf10_9'][i]=-99\n",
    "    if data['qf10_10'][i]==-97:\n",
    "        data['qf10_10'][i]=-99\n",
    "    if data['qf10_11'][i]==-97:\n",
    "        data['qf10_11'][i]=-99\n",
    "    if data['qf10_12'][i]==-97:\n",
    "        data['qf10_12'][i]=-99"
   ]
  },
  {
   "cell_type": "markdown",
   "id": "8589aef6",
   "metadata": {},
   "source": [
    "The same is going to be done for qk1:"
   ]
  },
  {
   "cell_type": "code",
   "execution_count": 35,
   "id": "f86e9a70",
   "metadata": {},
   "outputs": [],
   "source": [
    "for i in range(len(data)):\n",
    "    if data['qk1'][i]==-97:\n",
    "        data['qk1'][i]=-99"
   ]
  },
  {
   "cell_type": "markdown",
   "id": "ca48d24d",
   "metadata": {},
   "source": [
    "Here we have to take into account that in qf12 any answer's validity is dependent on qf11's results. So we have to account for inconsistent data giving some for of prevalence to qf11. "
   ]
  },
  {
   "cell_type": "code",
   "execution_count": 36,
   "id": "5f195a8c",
   "metadata": {},
   "outputs": [],
   "source": [
    "for i in range(len(data)):\n",
    "    if data['qf11'][i]==-99:\n",
    "        data['qf12_1_a'][i]=-99\n",
    "        data['qf12_1_b'][i]=-99\n",
    "        data['qf12_1_c'][i]=-99\n",
    "        data['qf12_2_d'][i]=-99\n",
    "        data['qf12_3_e'][i]=-99\n",
    "        data['qf12_3_f'][i]=-99\n",
    "        data['qf12_3_g'][i]=-99\n",
    "        data['qf12_4_k'][i]=-99\n",
    "        data['qf12_4_l'][i]=-99\n",
    "        data['qf12_5_m'][i]=-99\n",
    "        data['qf12_5_o'][i]=-99\n",
    "        data['qf12_6_p'][i]=-99\n",
    "        data['qf12_6_q'][i]=-99\n",
    "        data['qf12_7_r'][i]=-99\n",
    "    if data['qf11'][i]==0:\n",
    "        data['qf12_1_a'][i]=0\n",
    "        data['qf12_1_b'][i]=0\n",
    "        data['qf12_1_c'][i]=0\n",
    "        data['qf12_2_d'][i]=0\n",
    "        data['qf12_3_e'][i]=0\n",
    "        data['qf12_3_f'][i]=0\n",
    "        data['qf12_3_g'][i]=0\n",
    "        data['qf12_4_k'][i]=0\n",
    "        data['qf12_4_l'][i]=0\n",
    "        data['qf12_5_m'][i]=0\n",
    "        data['qf12_5_o'][i]=0\n",
    "        data['qf12_6_p'][i]=0\n",
    "        data['qf12_6_q'][i]=0\n",
    "        data['qf12_7_r'][i]=0"
   ]
  },
  {
   "cell_type": "markdown",
   "id": "239b38fc",
   "metadata": {},
   "source": [
    "Now we can also unite some qf12 multiple choice questions, in similar fashion as to what has been done before:"
   ]
  },
  {
   "cell_type": "code",
   "execution_count": 37,
   "id": "fe09222f",
   "metadata": {},
   "outputs": [],
   "source": [
    "data['qf12_1c_3g']=data[['qf12_1_c', 'qf12_3_g']].sum(axis=1)"
   ]
  },
  {
   "cell_type": "code",
   "execution_count": 38,
   "id": "4937fa59",
   "metadata": {},
   "outputs": [],
   "source": [
    "data['qf12_4k_5m_5o_6p']=data[['qf12_5_m', 'qf12_4_k', 'qf12_5_o', 'qf12_6_p']].sum(axis=1)"
   ]
  },
  {
   "cell_type": "code",
   "execution_count": 39,
   "id": "046c6f8b",
   "metadata": {},
   "outputs": [],
   "source": [
    "for i in range(len(data)):\n",
    "    if data['qf12_1c_3g'][i]>0:\n",
    "        data['qf12_1c_3g'][i]=1\n",
    "    if data['qf12_1c_3g'][i]<0:\n",
    "        data['qf12_1c_3g'][i]=-99\n",
    "    if data['qf12_4k_5m_5o_6p'][i]>0:\n",
    "        data['qf12_4k_5m_5o_6p'][i]=1\n",
    "    if data['qf12_4k_5m_5o_6p'][i]<0:\n",
    "        data['qf12_4k_5m_5o_6p'][i]=-99"
   ]
  },
  {
   "cell_type": "code",
   "execution_count": 40,
   "id": "9469a221",
   "metadata": {},
   "outputs": [],
   "source": [
    "data.drop(['qf12_5_m', 'qf12_4_k', 'qf12_5_o', 'qf12_6_p', 'qf12_1_c', 'qf12_3_g'], axis=1, inplace=True)"
   ]
  },
  {
   "cell_type": "markdown",
   "id": "b0b17113",
   "metadata": {},
   "source": [
    "No we also aggregate some values in qf13:"
   ]
  },
  {
   "cell_type": "code",
   "execution_count": 41,
   "id": "26959d48",
   "metadata": {},
   "outputs": [],
   "source": [
    "for i in range(len(data)):\n",
    "    if data['qf13'][i]==-97:\n",
    "        data['qf13'][i]=-99\n",
    "    if data['qf13'][i]==2:\n",
    "        data['qf13'][i]=1"
   ]
  },
  {
   "cell_type": "code",
   "execution_count": 42,
   "id": "e8c6ee27",
   "metadata": {},
   "outputs": [
    {
     "data": {
      "text/html": [
       "<div>\n",
       "<style scoped>\n",
       "    .dataframe tbody tr th:only-of-type {\n",
       "        vertical-align: middle;\n",
       "    }\n",
       "\n",
       "    .dataframe tbody tr th {\n",
       "        vertical-align: top;\n",
       "    }\n",
       "\n",
       "    .dataframe thead th {\n",
       "        text-align: right;\n",
       "    }\n",
       "</style>\n",
       "<table border=\"1\" class=\"dataframe\">\n",
       "  <thead>\n",
       "    <tr style=\"text-align: right;\">\n",
       "      <th></th>\n",
       "      <th>qf1</th>\n",
       "      <th>qf2</th>\n",
       "      <th>qf3_1</th>\n",
       "      <th>qf3_3</th>\n",
       "      <th>qf3_4</th>\n",
       "      <th>qf3_6</th>\n",
       "      <th>qf3_7</th>\n",
       "      <th>qf3_8</th>\n",
       "      <th>qf4</th>\n",
       "      <th>qf8</th>\n",
       "      <th>...</th>\n",
       "      <th>defrauded</th>\n",
       "      <th>qf9_2_3</th>\n",
       "      <th>qf9_7_8</th>\n",
       "      <th>qf9_1_9</th>\n",
       "      <th>qprod3_1_16</th>\n",
       "      <th>qprod3_3_6</th>\n",
       "      <th>qprod3_5_7_12_14</th>\n",
       "      <th>qprod3_13_15</th>\n",
       "      <th>qf12_1c_3g</th>\n",
       "      <th>qf12_4k_5m_5o_6p</th>\n",
       "    </tr>\n",
       "  </thead>\n",
       "  <tbody>\n",
       "    <tr>\n",
       "      <th>0</th>\n",
       "      <td>2</td>\n",
       "      <td>0</td>\n",
       "      <td>0</td>\n",
       "      <td>0</td>\n",
       "      <td>0</td>\n",
       "      <td>0</td>\n",
       "      <td>0</td>\n",
       "      <td>1</td>\n",
       "      <td>2</td>\n",
       "      <td>6</td>\n",
       "      <td>...</td>\n",
       "      <td>0</td>\n",
       "      <td>0</td>\n",
       "      <td>0</td>\n",
       "      <td>0</td>\n",
       "      <td>-99.0</td>\n",
       "      <td>-99.0</td>\n",
       "      <td>-99.0</td>\n",
       "      <td>-99.0</td>\n",
       "      <td>0.0</td>\n",
       "      <td>0.0</td>\n",
       "    </tr>\n",
       "    <tr>\n",
       "      <th>1</th>\n",
       "      <td>2</td>\n",
       "      <td>1</td>\n",
       "      <td>0</td>\n",
       "      <td>0</td>\n",
       "      <td>0</td>\n",
       "      <td>1</td>\n",
       "      <td>0</td>\n",
       "      <td>0</td>\n",
       "      <td>1</td>\n",
       "      <td>6</td>\n",
       "      <td>...</td>\n",
       "      <td>1</td>\n",
       "      <td>0</td>\n",
       "      <td>1</td>\n",
       "      <td>1</td>\n",
       "      <td>0.0</td>\n",
       "      <td>0.0</td>\n",
       "      <td>0.0</td>\n",
       "      <td>0.0</td>\n",
       "      <td>0.0</td>\n",
       "      <td>0.0</td>\n",
       "    </tr>\n",
       "    <tr>\n",
       "      <th>2</th>\n",
       "      <td>1</td>\n",
       "      <td>0</td>\n",
       "      <td>0</td>\n",
       "      <td>0</td>\n",
       "      <td>0</td>\n",
       "      <td>0</td>\n",
       "      <td>0</td>\n",
       "      <td>1</td>\n",
       "      <td>1</td>\n",
       "      <td>-99</td>\n",
       "      <td>...</td>\n",
       "      <td>0</td>\n",
       "      <td>0</td>\n",
       "      <td>0</td>\n",
       "      <td>0</td>\n",
       "      <td>-99.0</td>\n",
       "      <td>-99.0</td>\n",
       "      <td>-99.0</td>\n",
       "      <td>-99.0</td>\n",
       "      <td>0.0</td>\n",
       "      <td>0.0</td>\n",
       "    </tr>\n",
       "    <tr>\n",
       "      <th>3</th>\n",
       "      <td>2</td>\n",
       "      <td>0</td>\n",
       "      <td>0</td>\n",
       "      <td>0</td>\n",
       "      <td>0</td>\n",
       "      <td>0</td>\n",
       "      <td>0</td>\n",
       "      <td>1</td>\n",
       "      <td>2</td>\n",
       "      <td>6</td>\n",
       "      <td>...</td>\n",
       "      <td>0</td>\n",
       "      <td>0</td>\n",
       "      <td>1</td>\n",
       "      <td>0</td>\n",
       "      <td>-99.0</td>\n",
       "      <td>-99.0</td>\n",
       "      <td>-99.0</td>\n",
       "      <td>-99.0</td>\n",
       "      <td>0.0</td>\n",
       "      <td>0.0</td>\n",
       "    </tr>\n",
       "    <tr>\n",
       "      <th>4</th>\n",
       "      <td>2</td>\n",
       "      <td>0</td>\n",
       "      <td>0</td>\n",
       "      <td>0</td>\n",
       "      <td>0</td>\n",
       "      <td>0</td>\n",
       "      <td>0</td>\n",
       "      <td>1</td>\n",
       "      <td>0</td>\n",
       "      <td>6</td>\n",
       "      <td>...</td>\n",
       "      <td>0</td>\n",
       "      <td>0</td>\n",
       "      <td>0</td>\n",
       "      <td>1</td>\n",
       "      <td>-99.0</td>\n",
       "      <td>-99.0</td>\n",
       "      <td>-99.0</td>\n",
       "      <td>-99.0</td>\n",
       "      <td>0.0</td>\n",
       "      <td>0.0</td>\n",
       "    </tr>\n",
       "    <tr>\n",
       "      <th>...</th>\n",
       "      <td>...</td>\n",
       "      <td>...</td>\n",
       "      <td>...</td>\n",
       "      <td>...</td>\n",
       "      <td>...</td>\n",
       "      <td>...</td>\n",
       "      <td>...</td>\n",
       "      <td>...</td>\n",
       "      <td>...</td>\n",
       "      <td>...</td>\n",
       "      <td>...</td>\n",
       "      <td>...</td>\n",
       "      <td>...</td>\n",
       "      <td>...</td>\n",
       "      <td>...</td>\n",
       "      <td>...</td>\n",
       "      <td>...</td>\n",
       "      <td>...</td>\n",
       "      <td>...</td>\n",
       "      <td>...</td>\n",
       "      <td>...</td>\n",
       "    </tr>\n",
       "    <tr>\n",
       "      <th>2261</th>\n",
       "      <td>3</td>\n",
       "      <td>1</td>\n",
       "      <td>1</td>\n",
       "      <td>0</td>\n",
       "      <td>0</td>\n",
       "      <td>0</td>\n",
       "      <td>0</td>\n",
       "      <td>0</td>\n",
       "      <td>0</td>\n",
       "      <td>6</td>\n",
       "      <td>...</td>\n",
       "      <td>0</td>\n",
       "      <td>0</td>\n",
       "      <td>0</td>\n",
       "      <td>0</td>\n",
       "      <td>-99.0</td>\n",
       "      <td>-99.0</td>\n",
       "      <td>-99.0</td>\n",
       "      <td>-99.0</td>\n",
       "      <td>0.0</td>\n",
       "      <td>0.0</td>\n",
       "    </tr>\n",
       "    <tr>\n",
       "      <th>2262</th>\n",
       "      <td>1</td>\n",
       "      <td>0</td>\n",
       "      <td>1</td>\n",
       "      <td>0</td>\n",
       "      <td>0</td>\n",
       "      <td>0</td>\n",
       "      <td>0</td>\n",
       "      <td>0</td>\n",
       "      <td>1</td>\n",
       "      <td>6</td>\n",
       "      <td>...</td>\n",
       "      <td>0</td>\n",
       "      <td>0</td>\n",
       "      <td>0</td>\n",
       "      <td>0</td>\n",
       "      <td>-99.0</td>\n",
       "      <td>-99.0</td>\n",
       "      <td>-99.0</td>\n",
       "      <td>-99.0</td>\n",
       "      <td>0.0</td>\n",
       "      <td>0.0</td>\n",
       "    </tr>\n",
       "    <tr>\n",
       "      <th>2263</th>\n",
       "      <td>3</td>\n",
       "      <td>1</td>\n",
       "      <td>1</td>\n",
       "      <td>0</td>\n",
       "      <td>0</td>\n",
       "      <td>0</td>\n",
       "      <td>0</td>\n",
       "      <td>0</td>\n",
       "      <td>1</td>\n",
       "      <td>4</td>\n",
       "      <td>...</td>\n",
       "      <td>0</td>\n",
       "      <td>0</td>\n",
       "      <td>0</td>\n",
       "      <td>1</td>\n",
       "      <td>0.0</td>\n",
       "      <td>0.0</td>\n",
       "      <td>0.0</td>\n",
       "      <td>0.0</td>\n",
       "      <td>0.0</td>\n",
       "      <td>0.0</td>\n",
       "    </tr>\n",
       "    <tr>\n",
       "      <th>2264</th>\n",
       "      <td>3</td>\n",
       "      <td>0</td>\n",
       "      <td>0</td>\n",
       "      <td>0</td>\n",
       "      <td>0</td>\n",
       "      <td>0</td>\n",
       "      <td>0</td>\n",
       "      <td>1</td>\n",
       "      <td>-99</td>\n",
       "      <td>6</td>\n",
       "      <td>...</td>\n",
       "      <td>0</td>\n",
       "      <td>0</td>\n",
       "      <td>0</td>\n",
       "      <td>1</td>\n",
       "      <td>-99.0</td>\n",
       "      <td>-99.0</td>\n",
       "      <td>-99.0</td>\n",
       "      <td>-99.0</td>\n",
       "      <td>0.0</td>\n",
       "      <td>0.0</td>\n",
       "    </tr>\n",
       "    <tr>\n",
       "      <th>2265</th>\n",
       "      <td>2</td>\n",
       "      <td>1</td>\n",
       "      <td>1</td>\n",
       "      <td>0</td>\n",
       "      <td>0</td>\n",
       "      <td>0</td>\n",
       "      <td>0</td>\n",
       "      <td>0</td>\n",
       "      <td>0</td>\n",
       "      <td>3</td>\n",
       "      <td>...</td>\n",
       "      <td>0</td>\n",
       "      <td>0</td>\n",
       "      <td>0</td>\n",
       "      <td>1</td>\n",
       "      <td>0.0</td>\n",
       "      <td>0.0</td>\n",
       "      <td>0.0</td>\n",
       "      <td>0.0</td>\n",
       "      <td>0.0</td>\n",
       "      <td>0.0</td>\n",
       "    </tr>\n",
       "  </tbody>\n",
       "</table>\n",
       "<p>2266 rows × 79 columns</p>\n",
       "</div>"
      ],
      "text/plain": [
       "      qf1  qf2  qf3_1  qf3_3  qf3_4  qf3_6  qf3_7  qf3_8  qf4  qf8  ...  \\\n",
       "0       2    0      0      0      0      0      0      1    2    6  ...   \n",
       "1       2    1      0      0      0      1      0      0    1    6  ...   \n",
       "2       1    0      0      0      0      0      0      1    1  -99  ...   \n",
       "3       2    0      0      0      0      0      0      1    2    6  ...   \n",
       "4       2    0      0      0      0      0      0      1    0    6  ...   \n",
       "...   ...  ...    ...    ...    ...    ...    ...    ...  ...  ...  ...   \n",
       "2261    3    1      1      0      0      0      0      0    0    6  ...   \n",
       "2262    1    0      1      0      0      0      0      0    1    6  ...   \n",
       "2263    3    1      1      0      0      0      0      0    1    4  ...   \n",
       "2264    3    0      0      0      0      0      0      1  -99    6  ...   \n",
       "2265    2    1      1      0      0      0      0      0    0    3  ...   \n",
       "\n",
       "      defrauded  qf9_2_3  qf9_7_8  qf9_1_9  qprod3_1_16  qprod3_3_6  \\\n",
       "0             0        0        0        0        -99.0       -99.0   \n",
       "1             1        0        1        1          0.0         0.0   \n",
       "2             0        0        0        0        -99.0       -99.0   \n",
       "3             0        0        1        0        -99.0       -99.0   \n",
       "4             0        0        0        1        -99.0       -99.0   \n",
       "...         ...      ...      ...      ...          ...         ...   \n",
       "2261          0        0        0        0        -99.0       -99.0   \n",
       "2262          0        0        0        0        -99.0       -99.0   \n",
       "2263          0        0        0        1          0.0         0.0   \n",
       "2264          0        0        0        1        -99.0       -99.0   \n",
       "2265          0        0        0        1          0.0         0.0   \n",
       "\n",
       "      qprod3_5_7_12_14  qprod3_13_15  qf12_1c_3g  qf12_4k_5m_5o_6p  \n",
       "0                -99.0         -99.0         0.0               0.0  \n",
       "1                  0.0           0.0         0.0               0.0  \n",
       "2                -99.0         -99.0         0.0               0.0  \n",
       "3                -99.0         -99.0         0.0               0.0  \n",
       "4                -99.0         -99.0         0.0               0.0  \n",
       "...                ...           ...         ...               ...  \n",
       "2261             -99.0         -99.0         0.0               0.0  \n",
       "2262             -99.0         -99.0         0.0               0.0  \n",
       "2263               0.0           0.0         0.0               0.0  \n",
       "2264             -99.0         -99.0         0.0               0.0  \n",
       "2265               0.0           0.0         0.0               0.0  \n",
       "\n",
       "[2266 rows x 79 columns]"
      ]
     },
     "execution_count": 42,
     "metadata": {},
     "output_type": "execute_result"
    }
   ],
   "source": [
    "data"
   ]
  },
  {
   "cell_type": "markdown",
   "id": "ea5658ae",
   "metadata": {},
   "source": [
    "Now we aggregate some values for all questions related to financial knowledge:"
   ]
  },
  {
   "cell_type": "code",
   "execution_count": 43,
   "id": "8e48a772",
   "metadata": {},
   "outputs": [],
   "source": [
    "for i in range(len(data)):\n",
    "    if data['qk3'][i]==-97 or data['qk3'][i]==-99:\n",
    "        data['qk3'][i]=-99\n",
    "    if data['qk3'][i]==1 or data['qk3'][i]==2:\n",
    "        data['qk3'][i]=-1"
   ]
  },
  {
   "cell_type": "code",
   "execution_count": 44,
   "id": "3333e577",
   "metadata": {},
   "outputs": [],
   "source": [
    "for i in range(len(data)):\n",
    "    if data['qk4'][i]!=0 and data['qk4'][i]!=-99 and data['qk4'][i]!=-97:\n",
    "        data['qk4'][i]=-1\n",
    "    if data['qk4'][i]==-97 or data['qk4'][i]==-99:\n",
    "        data['qk4'][i]=-99"
   ]
  },
  {
   "cell_type": "code",
   "execution_count": 45,
   "id": "4b757a26",
   "metadata": {},
   "outputs": [],
   "source": [
    "for i in range(len(data)):\n",
    "    if data['qk5'][i]!=102 and data['qk5'][i]!=-99 and data['qk5'][i]!=-97:\n",
    "        data['qk5'][i]=-1\n",
    "    if data['qk5'][i]==-97 or data['qk5'][i]==-99:\n",
    "        data['qk5'][i]=-99"
   ]
  },
  {
   "cell_type": "code",
   "execution_count": 46,
   "id": "88609620",
   "metadata": {},
   "outputs": [],
   "source": [
    "for i in range(len(data)):\n",
    "    if data['qk6'][i]==2 or data['qk6'][i]==3 or data['qk6'][i]==4:\n",
    "        data['qk6'][i]=-1\n",
    "    if data['qk6'][i]==-97 or data['qk6'][i]==-99:\n",
    "        data['qk6'][i]=-99"
   ]
  },
  {
   "cell_type": "markdown",
   "id": "0db266fb",
   "metadata": {},
   "source": [
    "QK7_1->QK7_3"
   ]
  },
  {
   "cell_type": "code",
   "execution_count": 47,
   "id": "84c9ded3",
   "metadata": {},
   "outputs": [],
   "source": [
    "for i in range(len(data)):\n",
    "    if data['qk7_1'][i]==0:\n",
    "        data['qk7_1'][i]=-1\n",
    "    if data['qk7_2'][i]==0:\n",
    "        data['qk7_2'][i]=-1\n",
    "    if data['qk7_3'][i]==0:\n",
    "        data['qk7_3'][i]=-1\n",
    "    if data['qk7_1'][i]==-97 or data['qk7_1'][i]==-99:\n",
    "        data['qk7_1'][i]=-99\n",
    "    if data['qk7_2'][i]==-97 or data['qk7_2'][i]==-99:\n",
    "        data['qk7_2'][i]=-99\n",
    "    if data['qk7_3'][i]==-97 or data['qk7_3'][i]==-99:\n",
    "        data['qk7_3'][i]=-99"
   ]
  },
  {
   "cell_type": "markdown",
   "id": "992a4b7e",
   "metadata": {},
   "source": [
    "Now that the light aggregation and preparation is complete we can export the file for further analysis."
   ]
  },
  {
   "cell_type": "code",
   "execution_count": 48,
   "id": "e190ee4a",
   "metadata": {},
   "outputs": [],
   "source": [
    "data.to_csv('clean_data.csv')"
   ]
  },
  {
   "cell_type": "code",
   "execution_count": null,
   "id": "860f190b",
   "metadata": {},
   "outputs": [],
   "source": []
  }
 ],
 "metadata": {
  "kernelspec": {
   "display_name": "Python 3 (ipykernel)",
   "language": "python",
   "name": "python3"
  },
  "language_info": {
   "codemirror_mode": {
    "name": "ipython",
    "version": 3
   },
   "file_extension": ".py",
   "mimetype": "text/x-python",
   "name": "python",
   "nbconvert_exporter": "python",
   "pygments_lexer": "ipython3",
   "version": "3.10.8"
  }
 },
 "nbformat": 4,
 "nbformat_minor": 5
}
